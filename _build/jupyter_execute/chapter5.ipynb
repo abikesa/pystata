{
 "cells": [
  {
   "cell_type": "markdown",
   "metadata": {},
   "source": [
    "# 5 Annotation\n",
    "\n",
    "Sure, I'll break down the Stata script into smaller code blocks with notes so you can run them separately in a Jupyter Notebook with the Stata kernel.\n",
    "\n",
    "### Block 1: Setup and Logging"
   ]
  },
  {
   "cell_type": "code",
   "execution_count": 1,
   "metadata": {},
   "outputs": [
    {
     "name": "stdout",
     "output_type": "stream",
     "text": [
      "\n",
      "\n",
      "--------------------------------------------------------------------------------\n"
     ]
    },
    {
     "name": "stdout",
     "output_type": "stream",
     "text": [
      "      name:  <unnamed>\n"
     ]
    },
    {
     "name": "stdout",
     "output_type": "stream",
     "text": [
      "       log:  /Users/apollo/Documents/Melody/pystata/jamascript.log\n"
     ]
    },
    {
     "name": "stdout",
     "output_type": "stream",
     "text": [
      "  log type:  text\n"
     ]
    },
    {
     "name": "stdout",
     "output_type": "stream",
     "text": [
      " opened on:   5 Jul 2024, 14:12:25\n"
     ]
    }
   ],
   "source": [
    "// Close any existing log files\n",
    "capture log close \n",
    "\n",
    "// Open a new log file to record the output\n",
    "log using jamascript.log, replace "
   ]
  },
  {
   "cell_type": "markdown",
   "metadata": {},
   "source": [
    "\n",
    "### Block 2: Define Globals"
   ]
  },
  {
   "cell_type": "code",
   "execution_count": 2,
   "metadata": {},
   "outputs": [],
   "source": [
    "// Set global macros for the repository URL and local directory path\n",
    "global repo https://github.com/muzaale/forum/raw/main/ \n",
    "global dir ~/documents/melody/local"
   ]
  },
  {
   "cell_type": "markdown",
   "metadata": {},
   "source": [
    "\n",
    "### Block 3: Load Data"
   ]
  },
  {
   "cell_type": "code",
   "execution_count": 3,
   "metadata": {},
   "outputs": [
    {
     "name": "stdout",
     "output_type": "stream",
     "text": [
      "\n",
      "(Live Kidney Donors + NHANES III Nondonors, Unmatched time_tT + CMS)\n"
     ]
    }
   ],
   "source": [
    "// Load the dataset from the repository\n",
    "use ${repo}esrdRisk_t02tT, clear"
   ]
  },
  {
   "cell_type": "markdown",
   "metadata": {},
   "source": [
    "\n",
    "### Block 4: Initial Data Exploration"
   ]
  },
  {
   "cell_type": "code",
   "execution_count": 4,
   "metadata": {},
   "outputs": [
    {
     "name": "stdout",
     "output_type": "stream",
     "text": [
      "\n",
      "\n",
      "                     |           rSMGJcEdF_d\n"
     ]
    },
    {
     "name": "stdout",
     "output_type": "stream",
     "text": [
      "               donor |  Censored       ESRD       Died |     Total\n"
     ]
    },
    {
     "name": "stdout",
     "output_type": "stream",
     "text": [
      "---------------------+---------------------------------+----------\n"
     ]
    },
    {
     "name": "stdout",
     "output_type": "stream",
     "text": [
      "               Donor |    95,184         99        934 |    96,217 \n"
     ]
    },
    {
     "name": "stdout",
     "output_type": "stream",
     "text": [
      "     HealthyNondonor |     8,570         17        777 |     9,364 \n"
     ]
    },
    {
     "name": "stdout",
     "output_type": "stream",
     "text": [
      "NotSoHealthyNondonor |     4,694        154      3,228 |     8,076 \n"
     ]
    },
    {
     "name": "stdout",
     "output_type": "stream",
     "text": [
      "---------------------+---------------------------------+----------\n"
     ]
    },
    {
     "name": "stdout",
     "output_type": "stream",
     "text": [
      "               Total |   108,448        270      4,939 |   113,657 \n"
     ]
    },
    {
     "name": "stdout",
     "output_type": "stream",
     "text": [
      "\n"
     ]
    }
   ],
   "source": [
    "// Display the distribution of the 'donor' variable\n",
    "tab donor rSMGJcEdF_d\n",
    "\n",
    "// Generate a new variable 'entry' based on the 'rSMGJcEdF_t0' variable\n",
    "g entry = rSMGJcEdF_t0"
   ]
  },
  {
   "cell_type": "markdown",
   "metadata": {},
   "source": [
    "<iframe src=\"./jamascript-m.pdf\" width=\"100%\" height=\"600\" style=\"borders:none\"></iframe>\n",
    "<iframe src=\"./jamascript-e.pdf\" width=\"100%\" height=\"600\" style=\"borders:none\"></iframe>"
   ]
  },
  {
   "cell_type": "markdown",
   "metadata": {},
   "source": [
    "\n",
    "\n",
    "```stata\n",
    "\n",
    "```\n",
    "\n",
    "### Block 5: Data Cleaning and Adjustment\n",
    "```stata\n",
    "// Linkage for donors after 2011 is untrustworthy\n",
    "replace rSMGJcEdF_d = 0 if rSMGJcEdF_tT > d(31dec2011)\n",
    "replace rSMGJcEdF_tT = d(31dec2011) if rSMGJcEdF_tT > d(31dec2011)\n",
    "\n",
    "// Linkage before 1994 is untrustworthy\n",
    "replace entry = d(01jan1994) if entry < d(01jan1994) & rSMGJcEdF_tT > d(01jan1994)\n",
    "```\n",
    "\n",
    "### Block 6: Survival Analysis Setup\n",
    "```stata\n",
    "// Set up the survival-time data\n",
    "stset rSMGJcEdF_tT, origin(rSMGJcEdF_t0) entry(entry) fail(rSMGJcEdF_d==2) scale(365.25)\n",
    "```\n",
    "\n",
    "### Block 7: Generate Kaplan-Meier Estimates\n",
    "```stata\n",
    "// Generate Kaplan-Meier survival estimates and save the results\n",
    "sts list, fail by(donor) at(5 12 15) saving(km, replace)\n",
    "```\n",
    "\n",
    "### Block 8: Summarize Failure Rates\n",
    "```stata\n",
    "preserve\n",
    "    use km, clear\n",
    "    replace failure = failure * 100\n",
    "    \n",
    "    // Summarize failure rates for living donors at 5, 12, and 15 years\n",
    "    sum failure if donor == 1 & time == 5\n",
    "    local don5y: di %3.2f r(mean)\n",
    "    \n",
    "    sum failure if donor == 1 & time == 12\n",
    "    local don12y: di %3.2f r(mean)\n",
    "    \n",
    "    sum failure if donor == 1 & time == 15\n",
    "    local don15y: di %3.2f r(mean)\n",
    "\n",
    "    // Summarize failure rates for healthy nondonors at 5, 12, and 15 years\n",
    "    sum failure if donor == 2 & time == 5\n",
    "    local hnd5y: di %3.2f r(mean)\n",
    "    \n",
    "    sum failure if donor == 2 & time == 12\n",
    "    local hnd12y: di %3.2f r(mean)\n",
    "    \n",
    "    sum failure if donor == 2 & time == 15\n",
    "    local hnd15y: di %3.2f r(mean)\n",
    "\n",
    "    // Summarize failure rates for the general population at 5, 12, and 15 years\n",
    "    sum failure if donor == 3 & time == 5\n",
    "    local gpop5y: di %3.2f r(mean)\n",
    "    \n",
    "    sum failure if donor == 3 & time == 12\n",
    "    local gpop12y: di %3.2f r(mean)\n",
    "    \n",
    "    sum failure if donor == 3 & time == 15\n",
    "    local gpop15y: di %3.2f r(mean)\n",
    "restore\n",
    "```\n",
    "\n",
    "### Block 9: Kaplan-Meier Survival Plot\n",
    "```stata\n",
    "// Create a Kaplan-Meier survival plot with risk tables\n",
    "sts graph, by(donor) fail per(100) xlab(0(3)15) ylab(0(10)40, format(%2.0f)) tmax(15) risktable(, color(stc1) group(1) order(3 \" \" 2 \" \" 1 \" \") ti(\"#\")) risktable(, color(stc2) group(2)) risktable(, color(stc3) group(3)) legend(on ring(0) pos(11) order(3 2 1) lab(3 \"General population\") lab(2 \"Healthy nondonor\") lab(1 \"Living donor\")) ti(\"Morte\") text(`don5y' 5 \"`don5y'%\", col(stc1)) text(`don12y' 12 \"`don12y'%\", col(stc1)) text(`don15y' 15 \"`don15y'%\", col(stc1)) text(`hnd5y' 5 \"`hnd5y'%\", col(stc2)) text(`hnd12y' 12 \"`hnd12y'%\", col(stc2)) text(`hnd15y' 15 \"`hnd15y'%\", col(stc2)) text(`gpop5y' 5 \"`gpop5y'%\", col(stc3)) text(`gpop12y' 12 \"`gpop12y'%\", col(stc3)) text(`gpop15y' 15 \"`gpop15y'%\", col(stc3))\n",
    "```\n",
    "\n",
    "### Block 10: Export Graph\n",
    "```stata\n",
    "// Export the survival plot as a PNG file\n",
    "graph export ${dir}/jamascript.png, replace\n",
    "```\n",
    "\n",
    "### Block 11: Save Processed Data\n",
    "```stata\n",
    "// Keep relevant variables for further analysis\n",
    "keep _* entry age_t0 female race donor\n",
    "rename age_t0 age\n",
    "\n",
    "// Save the processed dataset\n",
    "save ${dir}//jamascript.dta, replace\n",
    "```\n",
    "\n",
    "### Block 12: Cox Proportional Hazards Model\n",
    "```stata\n",
    "// Fit a Cox proportional hazards model\n",
    "noi stcox i.donor, basesurv(s0)\n",
    "\n",
    "// List the baseline survival estimates\n",
    "noi list s0 _t donor in 1/10\n",
    "```\n",
    "\n",
    "### Block 13: Save Baseline Survival and Coefficients\n",
    "```stata\n",
    "// Define matrix 'b' with model coefficients\n",
    "matrix define b = e(b)\n",
    "\n",
    "// Keep baseline survival estimates\n",
    "keep s0 _t \n",
    "\n",
    "// Sort and list baseline survival estimates\n",
    "sort _t s0\n",
    "list in 1/10\n",
    "\n",
    "// Save baseline survival estimates\n",
    "save ${dir}/s0.dta, replace\n",
    "export delimited using ${dir}/s0.csv, replace\n",
    "\n",
    "// Save model coefficients\n",
    "matrix beta = e(b)\n",
    "svmat beta\n",
    "keep beta*\n",
    "drop if missing(beta1)\n",
    "list \n",
    "save ${dir}/b.dta, replace\n",
    "export delimited using ${dir}/b.csv, replace\n",
    "```\n",
    "\n",
    "### Block 14: Close Log File\n",
    "```stata\n",
    "// Close the log file\n",
    "log close\n",
    "```\n",
    "\n",
    "You can run these blocks sequentially in your Jupyter Notebook with the Stata kernel. Each block should perform a distinct part of the analysis, making it easier to debug and understand the workflow."
   ]
  }
 ],
 "metadata": {
  "kernelspec": {
   "display_name": "Stata",
   "language": "stata",
   "name": "stata"
  },
  "language_info": {
   "codemirror_mode": "stata",
   "file_extension": ".do",
   "mimetype": "text/x-stata",
   "name": "stata",
   "version": "15.1"
  },
  "widgets": {
   "application/vnd.jupyter.widget-state+json": {
    "state": {},
    "version_major": 2,
    "version_minor": 0
   }
  }
 },
 "nbformat": 4,
 "nbformat_minor": 4
}