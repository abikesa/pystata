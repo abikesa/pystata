{
 "cells": [
  {
   "cell_type": "markdown",
   "metadata": {},
   "source": [
    "# 5 Annotation\n",
    "\n",
    "Sure, I'll break down the Stata script into smaller code blocks with notes so you can run them separately in a Jupyter Notebook with the Stata kernel.\n",
    "\n",
    "### Block 1: Setup and Logging"
   ]
  },
  {
   "cell_type": "code",
   "execution_count": 2,
   "metadata": {},
   "outputs": [],
   "source": [
    "// Close any existing log files\n",
    "capture log close \n",
    "\n"
   ]
  },
  {
   "cell_type": "markdown",
   "metadata": {},
   "source": [
    "\n",
    "### Block 2: Define Globals"
   ]
  },
  {
   "cell_type": "code",
   "execution_count": 3,
   "metadata": {},
   "outputs": [],
   "source": [
    "// Set global macros for the repository URL and local directory path\n",
    "global repo https://github.com/muzaale/forum/raw/main/ \n",
    "global dir ~/documents/melody/local\n",
    "\n"
   ]
  },
  {
   "cell_type": "markdown",
   "metadata": {},
   "source": [
    "\n",
    "### Block 3: Load Data"
   ]
  },
  {
   "cell_type": "code",
   "execution_count": 4,
   "metadata": {},
   "outputs": [
    {
     "name": "stdout",
     "output_type": "stream",
     "text": [
      "\n",
      "--------------------------------------------------------------------------------\n",
      "      name:  <unnamed>\n",
      "       log:  /Users/apollo/Documents/Melody/local/jamascript.log\n",
      "  log type:  text\n",
      " opened on:   5 Jul 2024, 16:18:53\n",
      "\n",
      "(Live Kidney Donors + NHANES III Nondonors, Unmatched time_tT + CMS)\n"
     ]
    }
   ],
   "source": [
    "\n",
    "// Open a new log file to record the output\n",
    "log using jamascript.log, replace \n",
    "\n",
    "// Load the dataset from the repository\n",
    "use ${repo}esrdRisk_t02tT, clear"
   ]
  },
  {
   "cell_type": "markdown",
   "metadata": {},
   "source": [
    "\n",
    "### Block 4: Initial Data Exploration"
   ]
  },
  {
   "cell_type": "code",
   "execution_count": 5,
   "metadata": {},
   "outputs": [
    {
     "name": "stdout",
     "output_type": "stream",
     "text": [
      "\n",
      "\n",
      "                     |           rSMGJcEdF_d\n",
      "               donor |  Censored       ESRD       Died |     Total\n",
      "---------------------+---------------------------------+----------\n",
      "               Donor |    95,184         99        934 |    96,217 \n",
      "     HealthyNondonor |     8,570         17        777 |     9,364 \n",
      "NotSoHealthyNondonor |     4,694        154      3,228 |     8,076 \n",
      "---------------------+---------------------------------+----------\n",
      "               Total |   108,448        270      4,939 |   113,657 \n",
      "\n",
      "\n",
      "--------------------------------------------------------------------------------\n",
      "rSMGJcEdF_d                                                          (unlabeled)\n",
      "--------------------------------------------------------------------------------\n",
      "\n",
      "                  Type: Numeric (byte)\n",
      "                 Label: Neph2esrd_d\n",
      "\n",
      "                 Range: [0,2]                         Units: 1\n",
      "         Unique values: 3                         Missing .: 0/113,657\n",
      "\n",
      "            Tabulation: Freq.   Numeric  Label\n",
      "                      108,448         0  Censored\n",
      "                          270         1  ESRD\n",
      "                        4,939         2  Died\n",
      "\n"
     ]
    }
   ],
   "source": [
    "// Display the distribution of the 'donor' variable\n",
    "tab donor rSMGJcEdF_d\n",
    "codebook rSMGJcEdF_d\n",
    "\n",
    "// Generate a new variable 'entry' based on the 'rSMGJcEdF_t0' variable\n",
    "g entry = rSMGJcEdF_t0"
   ]
  },
  {
   "cell_type": "markdown",
   "metadata": {},
   "source": [
    "<iframe src=\"./jamascript-m.pdf\" width=\"100%\" height=\"600\" style=\"borders:none\"></iframe>\n",
    "<iframe src=\"./jamascript-e.pdf\" width=\"100%\" height=\"600\" style=\"borders:none\"></iframe>"
   ]
  },
  {
   "cell_type": "markdown",
   "metadata": {},
   "source": [
    "\n",
    "### Block 5: Data Cleaning and Adjustment"
   ]
  },
  {
   "cell_type": "code",
   "execution_count": 6,
   "metadata": {},
   "outputs": [
    {
     "name": "stdout",
     "output_type": "stream",
     "text": [
      "\n",
      "--------------------------------------------------------------------------------\n",
      "donor                                                                (unlabeled)\n",
      "--------------------------------------------------------------------------------\n",
      "\n",
      "                  Type: Numeric (byte)\n",
      "                 Label: Donor\n",
      "\n",
      "                 Range: [1,3]                         Units: 1\n",
      "         Unique values: 3                         Missing .: 0/113,657\n",
      "\n",
      "            Tabulation: Freq.   Numeric  Label\n",
      "                       96,217         1  Donor\n",
      "                        9,364         2  HealthyNondonor\n",
      "                        8,076         3  NotSoHealthyNondonor\n"
     ]
    }
   ],
   "source": [
    "codebook donor"
   ]
  },
  {
   "cell_type": "code",
   "execution_count": 7,
   "metadata": {},
   "outputs": [
    {
     "name": "stdout",
     "output_type": "stream",
     "text": [
      "\n",
      "(2 real changes made)\n",
      "\n",
      "(95,132 real changes made)\n",
      "\n",
      "(0 real changes made)\n"
     ]
    }
   ],
   "source": [
    "// Linkage for donors after 2011 is untrustworthy\n",
    "replace rSMGJcEdF_d = 0 if rSMGJcEdF_tT > d(31dec2011) & donor == 1\n",
    "replace rSMGJcEdF_tT = d(31dec2011) if rSMGJcEdF_tT > d(31dec2011) & donor == 1\n",
    "\n",
    "// Linkage before 1994 is untrustworthy\n",
    "replace entry = d(01jan1994) if entry < d(01jan1994) & rSMGJcEdF_tT > d(01jan1994) & donor == 1"
   ]
  },
  {
   "cell_type": "markdown",
   "metadata": {},
   "source": [
    "\n",
    "### Block 6: Mortality Analysis Setup"
   ]
  },
  {
   "cell_type": "code",
   "execution_count": 8,
   "metadata": {},
   "outputs": [
    {
     "name": "stdout",
     "output_type": "stream",
     "text": [
      "\n",
      "Survival-time data settings\n",
      "\n",
      "         Failure event: rSMGJcEdF_d==2\n",
      "Observed time interval: (origin, rSMGJcEdF_tT]\n",
      "     Enter on or after: time entry\n",
      "     Exit on or before: failure\n",
      "     Time for analysis: (time-origin)/365.25\n",
      "                Origin: time rSMGJcEdF_t0\n",
      "\n",
      "--------------------------------------------------------------------------\n",
      "    113,657  total observations\n",
      "          0  exclusions\n",
      "--------------------------------------------------------------------------\n",
      "    113,657  observations remaining, representing\n",
      "      4,937  failures in single-record/single-failure data\n",
      " 999,633.48  total analysis time at risk and under observation\n",
      "                                                At risk from t =         0\n",
      "                                     Earliest observed entry t =         0\n",
      "                                          Last observed exit t =  18.18207\n"
     ]
    }
   ],
   "source": [
    "// Set up the survival-time data\n",
    "stset rSMGJcEdF_tT, origin(rSMGJcEdF_t0) entry(entry) fail(rSMGJcEdF_d==2) scale(365.25)"
   ]
  },
  {
   "cell_type": "markdown",
   "metadata": {},
   "source": [
    "\n",
    "### Block 7: Generate Kaplan-Meier Estimates"
   ]
  },
  {
   "cell_type": "code",
   "execution_count": 9,
   "metadata": {},
   "outputs": [
    {
     "name": "stdout",
     "output_type": "stream",
     "text": [
      "\n",
      "         Failure _d: rSMGJcEdF_d==2\n",
      "   Analysis time _t: (rSMGJcEdF_tT-origin)/365.25\n",
      "             Origin: time rSMGJcEdF_t0\n",
      "  Enter on or after: time entry\n",
      "\n",
      "Kaplan–Meier failure function\n",
      "By variable: donor\n",
      "\n",
      "              Beg.              Failure      Std.\n",
      "    Time     total     Fail    function     error     [95% conf. int.]\n",
      "----------------------------------------------------------------------\n",
      "Donor \n",
      "       5     66051      299      0.0038    0.0002     0.0034    0.0042\n",
      "      12     22000      500      0.0162    0.0006     0.0151    0.0175\n",
      "      15      9068      133      0.0247    0.0010     0.0229    0.0267\n",
      "HealthyNondonor \n",
      "       5      9184      177      0.0189    0.0014     0.0163    0.0219\n",
      "      12      8741      434      0.0653    0.0026     0.0605    0.0705\n",
      "      15      4839      166      0.0873    0.0030     0.0815    0.0934\n",
      "NotSoHealthyNondonor \n",
      "       5      6850     1157      0.1442    0.0039     0.1367    0.1520\n",
      "      12      5163     1608      0.3463    0.0053     0.3360    0.3569\n",
      "      15      2150      463      0.4245    0.0059     0.4131    0.4361\n",
      "----------------------------------------------------------------------\n",
      "Note: Failure function is calculated over full data and evaluated at\n",
      "      indicated times; it is not calculated from aggregates shown at left.\n"
     ]
    }
   ],
   "source": [
    "// Generate Kaplan-Meier survival estimates and save the results\n",
    "sts list, fail by(donor) at(5 12 15) saving(km, replace)"
   ]
  },
  {
   "cell_type": "markdown",
   "metadata": {},
   "source": [
    "Only the donor results match [Segev, JAMA, 2010](https://abikesa.github.io/flow/_downloads/57876abeb3d25f47b41ed9b178f3d2c7/jamascript-m.pdf) p. 961. The nondonors here are unmatched and so do not yield the same estimates from this paper\n",
    "\n",
    "A webApp is quick way to approximate these findings using the base-case of the \"typical\" donor as per Table 1, also on page 961. Namely, 40yo white female with some college education, BMI=28, SBP=120, no hypertension, no history of smoking cigarettes, creatinine 0.9 mg/dL, and eGFR 100 mL/min \n",
    "\n",
    "### Block 8: Summarize Failure Rates"
   ]
  },
  {
   "cell_type": "code",
   "execution_count": 10,
   "metadata": {},
   "outputs": [
    {
     "name": "stdout",
     "output_type": "stream",
     "text": [
      "\n",
      "\n",
      "\n",
      "(9 real changes made)\n",
      "\n",
      "\n",
      "    Variable |        Obs        Mean    Std. dev.       Min        Max\n",
      "-------------+---------------------------------------------------------\n",
      "     failure |          1     .375848           .    .375848    .375848\n",
      "\n",
      "\n",
      "\n",
      "    Variable |        Obs        Mean    Std. dev.       Min        Max\n",
      "-------------+---------------------------------------------------------\n",
      "     failure |          1    1.623302           .   1.623302   1.623302\n",
      "\n",
      "\n",
      "\n",
      "    Variable |        Obs        Mean    Std. dev.       Min        Max\n",
      "-------------+---------------------------------------------------------\n",
      "     failure |          1    2.468609           .   2.468609   2.468609\n",
      "\n",
      "\n",
      "\n",
      "    Variable |        Obs        Mean    Std. dev.       Min        Max\n",
      "-------------+---------------------------------------------------------\n",
      "     failure |          1    1.890705           .   1.890705   1.890705\n",
      "\n",
      "\n",
      "\n",
      "    Variable |        Obs        Mean    Std. dev.       Min        Max\n",
      "-------------+---------------------------------------------------------\n",
      "     failure |          1    6.528533           .   6.528533   6.528533\n",
      "\n",
      "\n",
      "\n",
      "    Variable |        Obs        Mean    Std. dev.       Min        Max\n",
      "-------------+---------------------------------------------------------\n",
      "     failure |          1    8.728806           .   8.728806   8.728806\n",
      "\n",
      "\n",
      "\n",
      "    Variable |        Obs        Mean    Std. dev.       Min        Max\n",
      "-------------+---------------------------------------------------------\n",
      "     failure |          1    14.41562           .   14.41562   14.41562\n",
      "\n",
      "\n",
      "\n",
      "    Variable |        Obs        Mean    Std. dev.       Min        Max\n",
      "-------------+---------------------------------------------------------\n",
      "     failure |          1    34.63395           .   34.63395   34.63395\n",
      "\n",
      "\n",
      "\n",
      "    Variable |        Obs        Mean    Std. dev.       Min        Max\n",
      "-------------+---------------------------------------------------------\n",
      "     failure |          1    42.44794           .   42.44794   42.44794\n",
      "\n",
      "\n"
     ]
    }
   ],
   "source": [
    "preserve\n",
    "    use km, clear\n",
    "    replace failure = failure * 100\n",
    "    \n",
    "    // Summarize failure rates for living donors at 5, 12, and 15 years\n",
    "    sum failure if donor == 1 & time == 5\n",
    "    local don5y: di %3.2f r(mean)\n",
    "    \n",
    "    sum failure if donor == 1 & time == 12\n",
    "    local don12y: di %3.2f r(mean)\n",
    "    \n",
    "    sum failure if donor == 1 & time == 15\n",
    "    local don15y: di %3.2f r(mean)\n",
    "\n",
    "    // Summarize failure rates for healthy nondonors at 5, 12, and 15 years\n",
    "    sum failure if donor == 2 & time == 5\n",
    "    local hnd5y: di %3.2f r(mean)\n",
    "    \n",
    "    sum failure if donor == 2 & time == 12\n",
    "    local hnd12y: di %3.2f r(mean)\n",
    "    \n",
    "    sum failure if donor == 2 & time == 15\n",
    "    local hnd15y: di %3.2f r(mean)\n",
    "\n",
    "    // Summarize failure rates for the general population at 5, 12, and 15 years\n",
    "    sum failure if donor == 3 & time == 5\n",
    "    local gpop5y: di %3.2f r(mean)\n",
    "    \n",
    "    sum failure if donor == 3 & time == 12\n",
    "    local gpop12y: di %3.2f r(mean)\n",
    "    \n",
    "    sum failure if donor == 3 & time == 15\n",
    "    local gpop15y: di %3.2f r(mean)\n",
    "restore"
   ]
  },
  {
   "cell_type": "markdown",
   "metadata": {},
   "source": [
    "### Block 9: Kaplan-Meier Survival Plot"
   ]
  },
  {
   "cell_type": "code",
   "execution_count": 12,
   "metadata": {},
   "outputs": [
    {
     "name": "stdout",
     "output_type": "stream",
     "text": [
      "\n",
      "\n",
      "         Failure _d: rSMGJcEdF_d==2\n",
      "   Analysis time _t: (rSMGJcEdF_tT-origin)/365.25\n",
      "             Origin: time rSMGJcEdF_t0\n",
      "  Enter on or after: time entry\n",
      "\n",
      "(file pilot.gph not found)\n",
      "file pilot.gph saved\n",
      "\n",
      "file ~/documents/melody/local/pilot.png written in PNG format\n"
     ]
    }
   ],
   "source": [
    "// Create a Kaplan-Meier survival plot with risk tables\n",
    "sts graph, ///\n",
    "   by(donor) ///\n",
    "   fail per(100) ///\n",
    "   xlab(0(3)15) ///\n",
    "   ylab(0(10)40, format(%2.0f)) ///\n",
    "   tmax(15) ///\n",
    "   risktable(, color(stc1) group(1) order(3 \" \" 2 \" \" 1 \" \") ti(\"#\")) ///\n",
    "   risktable(, color(stc2) group(2)) risktable(, color(stc3) group(3)) ///\n",
    "   legend(on ring(0) pos(11) order(3 2 1) lab(3 \"General population\") lab(2 \"Healthy nondonor\") lab(1 \"Living donor\")) ///\n",
    "   ti(\"Morte\") text(`don5y' 5 \"`don5y'%\", col(stc1)) text(`don12y' 12 \"`don12y'%\", col(stc1)) ///\n",
    "   text(`don15y' 15 \"`don15y'%\", col(stc1)) ///\n",
    "   text(`hnd5y' 5 \"`hnd5y'%\", col(stc2)) ///\n",
    "   text(`hnd12y' 12 \"`hnd12y'%\", col(stc2)) ///\n",
    "   text(`hnd15y' 15 \"`hnd15y'%\", col(stc2)) ///\n",
    "   text(`gpop5y' 5 \"`gpop5y'%\", col(stc3)) ///\n",
    "   text(`gpop12y' 12 \"`gpop12y'%\", col(stc3)) ///\n",
    "   text(`gpop15y' 15 \"`gpop15y'%\", col(stc3))\n",
    "\n",
    "graph save pilot, replace \n",
    "graph export ${dir}/pilot.png, replace "
   ]
  },
  {
   "cell_type": "markdown",
   "metadata": {},
   "source": [
    "![](pilot.png)\n",
    "\n",
    "Compare this non-parametric with a semi-parametric curve:\n",
    "\n",
    "<iframe src=\"https://abikesa.github.io/business/part2/part2.html\" width=\"100%\" height=\"600px\" style=\"borders:none\"></iframe>\n",
    "\n",
    "### Block 10: Export Graph"
   ]
  },
  {
   "cell_type": "code",
   "execution_count": 13,
   "metadata": {},
   "outputs": [
    {
     "name": "stdout",
     "output_type": "stream",
     "text": [
      "\n",
      "file ~/documents/melody/local/jamascript.png written in PNG format\n"
     ]
    }
   ],
   "source": [
    "\n",
    "// Export the survival plot as a PNG file\n",
    "graph export ${dir}/jamascript.png, replace"
   ]
  },
  {
   "cell_type": "markdown",
   "metadata": {},
   "source": [
    "\n",
    "### Block 11: Save Processed Data"
   ]
  },
  {
   "cell_type": "code",
   "execution_count": 15,
   "metadata": {},
   "outputs": [
    {
     "name": "stdout",
     "output_type": "stream",
     "text": [
      "\n",
      "variable age_t0 not found\n"
     ]
    },
    {
     "name": "stderr",
     "output_type": "stream",
     "text": [
      "r(111);\n",
      "r(111);\n"
     ]
    },
    {
     "name": "stdout",
     "output_type": "stream",
     "text": [
      "\n",
      "\n"
     ]
    }
   ],
   "source": [
    "// Keep relevant variables for further analysis\n",
    "keep _* entry age_t0 female race donor\n",
    "rename age_t0 age\n"
   ]
  },
  {
   "cell_type": "code",
   "execution_count": 16,
   "metadata": {},
   "outputs": [
    {
     "name": "stdout",
     "output_type": "stream",
     "text": [
      "\n",
      "file ~/documents/melody/local//jamascript.dta saved\n"
     ]
    }
   ],
   "source": [
    "// Save the processed dataset\n",
    "save ${dir}//jamascript.dta, replace"
   ]
  },
  {
   "cell_type": "markdown",
   "metadata": {},
   "source": [
    " \n",
    "### Block 12: Cox Proportional Hazards Model"
   ]
  },
  {
   "cell_type": "code",
   "execution_count": 20,
   "metadata": {},
   "outputs": [
    {
     "name": "stdout",
     "output_type": "stream",
     "text": [
      "\n",
      "\n",
      "         Failure _d: rSMGJcEdF_d==2\n",
      "   Analysis time _t: (rSMGJcEdF_tT-origin)/365.25\n",
      "             Origin: time rSMGJcEdF_t0\n",
      "  Enter on or after: time entry\n"
     ]
    },
    {
     "name": "stdout",
     "output_type": "stream",
     "text": [
      "\n",
      "Iteration 0:  Log likelihood = -54332.522\n",
      "Iteration 1:  Log likelihood =  -52993.14\n",
      "Iteration 2:  Log likelihood = -51472.516\n",
      "Iteration 3:  Log likelihood = -49543.907\n",
      "Iteration 4:  Log likelihood =  -49520.68\n",
      "Iteration 5:  Log likelihood = -49520.548\n",
      "Iteration 6:  Log likelihood = -49520.548\n",
      "Refining estimates:\n",
      "Iteration 0:  Log likelihood = -49520.548\n",
      "\n",
      "Cox regression with Breslow method for ties\n",
      "\n",
      "No. of subjects =     113,657                          Number of obs = 113,657\n",
      "No. of failures =       4,937\n",
      "Time at risk    = 999,633.484\n",
      "                                                       LR chi2(2)    = 9623.95\n",
      "Log likelihood = -49520.548                            Prob > chi2   =  0.0000\n",
      "\n",
      "-------------------------------------------------------------------------------\n",
      "           _t | Haz. ratio   Std. err.      z    P>|z|     [95% conf. interval]\n",
      "--------------+----------------------------------------------------------------\n",
      "        donor |\n",
      "HealthyNon~r  |   4.341779   .2130915    29.92   0.000     3.943586    4.780178\n",
      "NotSoHealt~r  |   26.88098   1.007964    87.78   0.000     24.97625    28.93096\n",
      "-------------------------------------------------------------------------------\n"
     ]
    }
   ],
   "source": [
    "// Fit a Cox proportional hazards model\n",
    "noi stcox i.donor, basesurv(s0)\n",
    "\n"
   ]
  },
  {
   "cell_type": "code",
   "execution_count": 21,
   "metadata": {},
   "outputs": [
    {
     "name": "stdout",
     "output_type": "stream",
     "text": [
      "\n",
      "\n",
      "     +-------------------------------+\n",
      "     |        s0          _t   donor |\n",
      "     |-------------------------------|\n",
      "  1. | .98566928   11.277207   Donor |\n",
      "  2. | .99256749   6.8281999   Donor |\n",
      "  3. | .99351642   6.1711157   Donor |\n",
      "  4. | .99402483   5.6919918   Donor |\n",
      "  5. | .98475171   11.816564   Donor |\n",
      "     |-------------------------------|\n",
      "  6. | .99934972   .90622861   Donor |\n",
      "  7. | .98705221   10.472279   Donor |\n",
      "  8. |  .9879412   9.8754278   Donor |\n",
      "  9. | .98766713   10.064339   Donor |\n",
      " 10. | .99994059   .08761123   Donor |\n",
      "     +-------------------------------+\n"
     ]
    }
   ],
   "source": [
    "// List the baseline survival estimates\n",
    "noi list s0 _t donor in 1/10"
   ]
  },
  {
   "cell_type": "markdown",
   "metadata": {},
   "source": [
    "\n",
    "\n",
    "### Block 13: Save Baseline Survival and Coefficients"
   ]
  },
  {
   "cell_type": "code",
   "execution_count": 24,
   "metadata": {},
   "outputs": [
    {
     "name": "stdout",
     "output_type": "stream",
     "text": [
      "\n",
      "\n",
      "\n",
      "\n",
      "\n",
      "     +-----------------------+\n",
      "     |        _t          s0 |\n",
      "     |-----------------------|\n",
      "  1. | .00273785   .99998587 |\n",
      "  2. | .00273785   .99998587 |\n",
      "  3. | .00273785   .99998587 |\n",
      "  4. | .00273785   .99998587 |\n",
      "  5. | .00273785   .99998587 |\n",
      "     |-----------------------|\n",
      "  6. | .00273785   .99998587 |\n",
      "  7. | .00273785   .99998587 |\n",
      "  8. | .00273785   .99998587 |\n",
      "  9. | .00273785   .99998587 |\n",
      " 10. | .00273785   .99998587 |\n",
      "     +-----------------------+\n",
      "\n",
      "file ~/documents/melody/local/s0.dta saved\n",
      "\n",
      "file /Users/apollo/documents/melody/local/s0.csv saved\n"
     ]
    }
   ],
   "source": [
    "// Define matrix 'b' with model coefficients\n",
    "matrix define b = e(b)\n",
    "\n",
    "// Keep baseline survival estimates\n",
    "keep s0 _t \n",
    "\n",
    "// Sort and list baseline survival estimates\n",
    "sort _t s0\n",
    "list in 1/10\n",
    "\n",
    "// Save baseline survival estimates\n",
    "save ${dir}/s0.dta, replace\n",
    "export delimited using ${dir}/s0.csv, replace"
   ]
  },
  {
   "cell_type": "code",
   "execution_count": 25,
   "metadata": {},
   "outputs": [
    {
     "name": "stdout",
     "output_type": "stream",
     "text": [
      "\n",
      "\n",
      "\n",
      "\n",
      "(113,656 observations deleted)\n",
      "\n",
      "\n",
      "     +-----------------------------+\n",
      "     | beta1      beta2      beta3 |\n",
      "     |-----------------------------|\n",
      "  1. |     0   1.468284   3.291419 |\n",
      "     +-----------------------------+\n",
      "\n",
      "file ~/documents/melody/local/b.dta saved\n",
      "\n",
      "file /Users/apollo/documents/melody/local/b.csv saved\n"
     ]
    }
   ],
   "source": [
    "// Save model coefficients\n",
    "matrix beta = e(b)\n",
    "svmat beta\n",
    "keep beta*\n",
    "drop if missing(beta1)\n",
    "list \n",
    "save ${dir}/b.dta, replace\n",
    "export delimited using ${dir}/b.csv, replace"
   ]
  },
  {
   "cell_type": "markdown",
   "metadata": {},
   "source": [
    "\n",
    "### Block 14: Close Log File"
   ]
  },
  {
   "cell_type": "code",
   "execution_count": 26,
   "metadata": {},
   "outputs": [
    {
     "name": "stdout",
     "output_type": "stream",
     "text": [
      "      name:  <unnamed>\n",
      "       log:  /Users/apollo/Documents/Melody/local/jamascript.log\n",
      "  log type:  text\n",
      " closed on:   5 Jul 2024, 16:36:07\n",
      "--------------------------------------------------------------------------------\n"
     ]
    }
   ],
   "source": [
    " \n",
    "// Close the log file\n",
    "log close"
   ]
  }
 ],
 "metadata": {
  "kernelspec": {
   "display_name": "Stata",
   "language": "stata",
   "name": "stata"
  },
  "language_info": {
   "codemirror_mode": "stata",
   "file_extension": ".do",
   "mimetype": "text/x-stata",
   "name": "stata",
   "version": "15.1"
  },
  "widgets": {
   "application/vnd.jupyter.widget-state+json": {
    "state": {},
    "version_major": 2,
    "version_minor": 0
   }
  }
 },
 "nbformat": 4,
 "nbformat_minor": 4
}
